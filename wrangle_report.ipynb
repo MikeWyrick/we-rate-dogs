{
 "cells": [
  {
   "cell_type": "markdown",
   "metadata": {},
   "source": [
    "# Wrangle Report"
   ]
  },
  {
   "cell_type": "markdown",
   "metadata": {},
   "source": [
    "## Introduction"
   ]
  },
  {
   "cell_type": "markdown",
   "metadata": {},
   "source": [
    "This is a data wrangling report that uses data from Twitter's WeRateDog's trend. The project deals with gathering, assessing, cleaning, and visualizing the data. The analyis for this project was done using python and it's libraries."
   ]
  },
  {
   "cell_type": "markdown",
   "metadata": {},
   "source": [
    "## Data Gathering"
   ]
  },
  {
   "cell_type": "markdown",
   "metadata": {},
   "source": [
    "Data was gathered from 3 different sources for this project.\n",
    "\n",
    "1. twitter_archive. This file was provided by Udacity as part of the Nanodegree program, it is the WeRateDog's archive from Twitter. The file is a csv and was imported using pd.read_csv().\n",
    "2. image_predictions. This file contains image predictions gathered from using a neural network. It was provided by the website https://d17h27t6h515a5.cloudfront.net/topher/2017/August/599fd2ad_image-predictions/image-predictions.tsv. This item was read in using the requests library and the given url. The file was a tsv and was imported into the dataframe using pd.read_csv().\n",
    "3. tweet_data. This file contains the Tweet data. Using the Tweet ID's in the Twitter Archive I accessed information for every Tweet in the Twitter API using Tweepy and stored all the JSON data in a .txt file named tweet_json.txt. "
   ]
  },
  {
   "cell_type": "markdown",
   "metadata": {},
   "source": [
    "## Data Assessing"
   ]
  },
  {
   "cell_type": "markdown",
   "metadata": {},
   "source": [
    "This part of the project required looking over the data to assess two things, data quality and data tidiness. \n",
    "\n",
    "<b> Data Quality Issues </b>\n",
    "\n",
    "1: Timestamp was stored in string format. This needed to be changed to datetime.\n",
    "\n",
    "2: There are instances where the rating_demoninator has errors in the values. The standard rating_denominator is 10. Demoninator values needed to all be 10.\n",
    "\n",
    "3: Columns that contained information on retweet and reply data have large amounts of missing values. Retweets and reply data was not be used and therefore these columns were be deleted.\n",
    "\n",
    "4: The source column was a html string. This was replaced to be readable.\n",
    "\n",
    "5: The p1_dog values contained False values. These are images are not dogs are not need. All False values were removed. \n",
    "\n",
    "6: The p1 and p1_confidence columns are not descriptive names. These columns were changed to dog_breed and breed_confidence. \n",
    "\n",
    "7: The dog_breed column contained underscores and was improperly capitalized. The underscores were replaced with spaces and breed names were properly capitalized.\n",
    "\n",
    "8: All p2 and p3 columns were removed from the dataset because for analysis I was only concerned with the highest confidence. \n",
    "\n",
    "9: The jpeg_url column was removed because url's are included in the Archive Data Frame.\n",
    "\n",
    "10: Drop the old dog rank columns.\n",
    "\n",
    "<b> Data Tidiness Issues </b>\n",
    "\n",
    "1: Dog ranking columns (doggo, floofer, etc.) was merged to one column.\n",
    "\n",
    "2 Removed 181 retweets and 78 replies."
   ]
  },
  {
   "cell_type": "markdown",
   "metadata": {},
   "source": [
    "## Data Cleaning"
   ]
  },
  {
   "cell_type": "markdown",
   "metadata": {},
   "source": [
    "This part of the project required cleaning the data for the issues stated above. The cleaning solutions correspond to the same number as the assessment above. \n",
    "\n",
    "<b> Data Quality Issues </b>\n",
    "\n",
    "1: Changed to datetime using pd.to_datetime\n",
    "\n",
    "2: All rating demoninators were changed to 10 using a lambda function\n",
    "\n",
    "3: Drop columns that deal with retweets and replies using .drop\n",
    "\n",
    "4: Source was made readable using .replace\n",
    "\n",
    "5: Removed false values using .drop \n",
    "\n",
    "6: Renamed dog_breed and breed_confidence using .rename\n",
    "\n",
    "7: Cleaned up names using .replace and .str.title\n",
    "\n",
    "8: All p2 and p3 columns were removed and p1_dog was removed using .drop \n",
    "\n",
    "9: Removed jpeg_url using .drop\n",
    "\n",
    "10: Drop the old dog rank columns using .drop\n",
    "\n",
    "<b> Data Tidiness Issues </b>\n",
    "\n",
    "1: Defined a new column called rank and filled in the values from the 4 old columns.\n",
    "\n",
    "2 Removed 181 retweets and 78 replies using the .drop "
   ]
  }
 ],
 "metadata": {
  "kernelspec": {
   "display_name": "Python 3",
   "language": "python",
   "name": "python3"
  },
  "language_info": {
   "codemirror_mode": {
    "name": "ipython",
    "version": 3
   },
   "file_extension": ".py",
   "mimetype": "text/x-python",
   "name": "python",
   "nbconvert_exporter": "python",
   "pygments_lexer": "ipython3",
   "version": "3.6.3"
  }
 },
 "nbformat": 4,
 "nbformat_minor": 2
}
